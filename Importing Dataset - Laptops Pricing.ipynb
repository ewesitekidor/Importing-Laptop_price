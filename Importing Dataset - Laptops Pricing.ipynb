{
 "cells": [
  {
   "cell_type": "markdown",
   "id": "0427f27d-7f1a-48a9-ada0-9539cf7cae06",
   "metadata": {},
   "source": [
    "**Importing Dataset - Laptops Pricing**"
   ]
  },
  {
   "cell_type": "markdown",
   "id": "4221ab1a-f7b1-4221-9198-8173050b154f",
   "metadata": {},
   "source": [
    "**Deliverables**\n",
    "\n",
    "- Import a dataset from a CSV file to a Pandas dataframe\n",
    "- Develop some basic insights about the datase"
   ]
  },
  {
   "cell_type": "markdown",
   "id": "64eedca1-96a0-46c6-897a-cf517b8ed397",
   "metadata": {},
   "source": [
    "**Setup**\n",
    "\n",
    "\n",
    "- **skillsnetwork** for downloading the daataset\n",
    "\n",
    "- **pandas** for managing the data.\n",
    "\n",
    "- **numpy** for mathematical operation"
   ]
  },
  {
   "cell_type": "markdown",
   "id": "f173dd11-13d4-4ef2-8b6e-87bd890c2d9e",
   "metadata": {},
   "source": [
    "**Importing Required Libraries**\n",
    "\n"
   ]
  },
  {
   "cell_type": "code",
   "execution_count": 5,
   "id": "837b6d88-456f-4f22-802b-debdadefeae6",
   "metadata": {},
   "outputs": [],
   "source": [
    "import pandas as pd\n",
    "import numpy as np"
   ]
  },
  {
   "cell_type": "markdown",
   "id": "7c8749ad-bf14-441a-8474-66817077fb34",
   "metadata": {},
   "source": [
    "The functions below will download the dataset into your browser"
   ]
  },
  {
   "cell_type": "code",
   "execution_count": 10,
   "id": "7987dc7e-97ec-4074-a1ed-3f23d16f33d8",
   "metadata": {},
   "outputs": [
    {
     "name": "stdout",
     "output_type": "stream",
     "text": [
      "Requirement already satisfied: jupyterlite-pyodide-kernel in c:\\users\\ewesit\\anaconda3\\lib\\site-packages (0.4.4)\n",
      "Requirement already satisfied: jupyterlite-core<0.5.0,>=0.4.0 in c:\\users\\ewesit\\anaconda3\\lib\\site-packages (from jupyterlite-pyodide-kernel) (0.4.4)\n",
      "Requirement already satisfied: pkginfo in c:\\users\\ewesit\\anaconda3\\lib\\site-packages (from jupyterlite-pyodide-kernel) (1.10.0)\n",
      "Requirement already satisfied: doit<1,>=0.34 in c:\\users\\ewesit\\anaconda3\\lib\\site-packages (from jupyterlite-core<0.5.0,>=0.4.0->jupyterlite-pyodide-kernel) (0.36.0)\n",
      "Requirement already satisfied: jupyter-core>=4.7 in c:\\users\\ewesit\\anaconda3\\lib\\site-packages (from jupyterlite-core<0.5.0,>=0.4.0->jupyterlite-pyodide-kernel) (5.7.2)\n",
      "Requirement already satisfied: cloudpickle in c:\\users\\ewesit\\anaconda3\\lib\\site-packages (from doit<1,>=0.34->jupyterlite-core<0.5.0,>=0.4.0->jupyterlite-pyodide-kernel) (2.2.1)\n",
      "Requirement already satisfied: importlib-metadata>=4.4 in c:\\users\\ewesit\\anaconda3\\lib\\site-packages (from doit<1,>=0.34->jupyterlite-core<0.5.0,>=0.4.0->jupyterlite-pyodide-kernel) (7.0.1)\n",
      "Requirement already satisfied: platformdirs>=2.5 in c:\\users\\ewesit\\anaconda3\\lib\\site-packages (from jupyter-core>=4.7->jupyterlite-core<0.5.0,>=0.4.0->jupyterlite-pyodide-kernel) (3.10.0)\n",
      "Requirement already satisfied: pywin32>=300 in c:\\users\\ewesit\\anaconda3\\lib\\site-packages (from jupyter-core>=4.7->jupyterlite-core<0.5.0,>=0.4.0->jupyterlite-pyodide-kernel) (305.1)\n",
      "Requirement already satisfied: traitlets>=5.3 in c:\\users\\ewesit\\anaconda3\\lib\\site-packages (from jupyter-core>=4.7->jupyterlite-core<0.5.0,>=0.4.0->jupyterlite-pyodide-kernel) (5.14.3)\n",
      "Requirement already satisfied: zipp>=0.5 in c:\\users\\ewesit\\anaconda3\\lib\\site-packages (from importlib-metadata>=4.4->doit<1,>=0.34->jupyterlite-core<0.5.0,>=0.4.0->jupyterlite-pyodide-kernel) (3.17.0)\n"
     ]
    }
   ],
   "source": [
    "! pip install jupyterlite-pyodide-kernel\n",
    "\n",
    "async def download(url, filename):\n",
    "    response = await pyfetch(url)\n",
    "    if response.status == 200:\n",
    "        with open(filename, \"wb\") as f:\n",
    "            f.write(await response.bytes())"
   ]
  },
  {
   "cell_type": "code",
   "execution_count": 16,
   "id": "12ed913e-3676-449b-9cd6-6a32bd7762c8",
   "metadata": {},
   "outputs": [],
   "source": [
    "file_path = \"https://cf-courses-data.s3.us.cloud-object-storage.appdomain.cloud/IBMDeveloperSkillsNetwork-DA0101EN-Coursera/laptop_pricing_dataset_base.csv\"\n",
    "df =pd.read_csv(file_path) # load the data into dataframe"
   ]
  },
  {
   "cell_type": "code",
   "execution_count": 24,
   "id": "e7901d94-a4b4-49a0-aab6-1a1bbe18138c",
   "metadata": {},
   "outputs": [],
   "source": [
    "file_name = 'laptop_price.csv'\n"
   ]
  },
  {
   "cell_type": "markdown",
   "id": "cd6e739d-6b23-432a-982f-2c2be143b0cc",
   "metadata": {},
   "source": [
    "**Task #1:** \n",
    "\n",
    "Load the dataset to a pandas dataframe named 'df'\n",
    "\n",
    "Print the first 5 entries of the dataset to confirm loading."
   ]
  },
  {
   "cell_type": "code",
   "execution_count": 32,
   "id": "d30ac141-2107-4683-b1f8-8a84720beeb9",
   "metadata": {},
   "outputs": [],
   "source": [
    "# load the data set into dataframe\n",
    "df = pd.read_csv(file_path)"
   ]
  },
  {
   "cell_type": "code",
   "execution_count": 34,
   "id": "33141ffa-ba98-4353-b1e6-1055aa790ae3",
   "metadata": {},
   "outputs": [
    {
     "data": {
      "text/html": [
       "<div>\n",
       "<style scoped>\n",
       "    .dataframe tbody tr th:only-of-type {\n",
       "        vertical-align: middle;\n",
       "    }\n",
       "\n",
       "    .dataframe tbody tr th {\n",
       "        vertical-align: top;\n",
       "    }\n",
       "\n",
       "    .dataframe thead th {\n",
       "        text-align: right;\n",
       "    }\n",
       "</style>\n",
       "<table border=\"1\" class=\"dataframe\">\n",
       "  <thead>\n",
       "    <tr style=\"text-align: right;\">\n",
       "      <th></th>\n",
       "      <th>Acer</th>\n",
       "      <th>4</th>\n",
       "      <th>IPS Panel</th>\n",
       "      <th>2</th>\n",
       "      <th>1</th>\n",
       "      <th>5</th>\n",
       "      <th>35.56</th>\n",
       "      <th>1.6</th>\n",
       "      <th>8</th>\n",
       "      <th>256</th>\n",
       "      <th>1.6.1</th>\n",
       "      <th>978</th>\n",
       "    </tr>\n",
       "  </thead>\n",
       "  <tbody>\n",
       "    <tr>\n",
       "      <th>0</th>\n",
       "      <td>Dell</td>\n",
       "      <td>3</td>\n",
       "      <td>Full HD</td>\n",
       "      <td>1</td>\n",
       "      <td>1</td>\n",
       "      <td>3</td>\n",
       "      <td>39.624</td>\n",
       "      <td>2.0</td>\n",
       "      <td>4</td>\n",
       "      <td>256</td>\n",
       "      <td>2.2</td>\n",
       "      <td>634</td>\n",
       "    </tr>\n",
       "    <tr>\n",
       "      <th>1</th>\n",
       "      <td>Dell</td>\n",
       "      <td>3</td>\n",
       "      <td>Full HD</td>\n",
       "      <td>1</td>\n",
       "      <td>1</td>\n",
       "      <td>7</td>\n",
       "      <td>39.624</td>\n",
       "      <td>2.7</td>\n",
       "      <td>8</td>\n",
       "      <td>256</td>\n",
       "      <td>2.2</td>\n",
       "      <td>946</td>\n",
       "    </tr>\n",
       "    <tr>\n",
       "      <th>2</th>\n",
       "      <td>Dell</td>\n",
       "      <td>4</td>\n",
       "      <td>IPS Panel</td>\n",
       "      <td>2</td>\n",
       "      <td>1</td>\n",
       "      <td>5</td>\n",
       "      <td>33.782</td>\n",
       "      <td>1.6</td>\n",
       "      <td>8</td>\n",
       "      <td>128</td>\n",
       "      <td>1.22</td>\n",
       "      <td>1244</td>\n",
       "    </tr>\n",
       "    <tr>\n",
       "      <th>3</th>\n",
       "      <td>HP</td>\n",
       "      <td>4</td>\n",
       "      <td>Full HD</td>\n",
       "      <td>2</td>\n",
       "      <td>1</td>\n",
       "      <td>7</td>\n",
       "      <td>39.624</td>\n",
       "      <td>1.8</td>\n",
       "      <td>8</td>\n",
       "      <td>256</td>\n",
       "      <td>1.91</td>\n",
       "      <td>837</td>\n",
       "    </tr>\n",
       "    <tr>\n",
       "      <th>4</th>\n",
       "      <td>Dell</td>\n",
       "      <td>3</td>\n",
       "      <td>Full HD</td>\n",
       "      <td>1</td>\n",
       "      <td>1</td>\n",
       "      <td>5</td>\n",
       "      <td>39.624</td>\n",
       "      <td>1.6</td>\n",
       "      <td>8</td>\n",
       "      <td>256</td>\n",
       "      <td>2.2</td>\n",
       "      <td>1016</td>\n",
       "    </tr>\n",
       "  </tbody>\n",
       "</table>\n",
       "</div>"
      ],
      "text/plain": [
       "   Acer  4  IPS Panel  2  1  5   35.56  1.6  8  256 1.6.1   978\n",
       "0  Dell  3    Full HD  1  1  3  39.624  2.0  4  256   2.2   634\n",
       "1  Dell  3    Full HD  1  1  7  39.624  2.7  8  256   2.2   946\n",
       "2  Dell  4  IPS Panel  2  1  5  33.782  1.6  8  128  1.22  1244\n",
       "3    HP  4    Full HD  2  1  7  39.624  1.8  8  256  1.91   837\n",
       "4  Dell  3    Full HD  1  1  5  39.624  1.6  8  256   2.2  1016"
      ]
     },
     "execution_count": 34,
     "metadata": {},
     "output_type": "execute_result"
    }
   ],
   "source": [
    "# print the first 5 entries of the dataset to confirm loading.\n",
    "df.head()"
   ]
  },
  {
   "cell_type": "markdown",
   "id": "b0b8c25d-d161-4991-8032-a1618557fe1a",
   "metadata": {},
   "source": [
    "**Task #2:** \n",
    "\n",
    "Add headers to the dataframe\n",
    "\n",
    "The headers for the dataset, in sequence, are \"Manufacturer\", \"Category\", \"Screen\", \"GPU\", \"OS\",\n",
    "\"CPU_core\", \"Screen_Size_inch\", \"CPU_frequency\", \"RAM_GB\", \"Storage_GB_SSD\", \"Weight_kg\" and \"Price\".\n",
    "\n",
    "Confirm insertion by printing the first 10 rows of the dataset."
   ]
  },
  {
   "cell_type": "code",
   "execution_count": 39,
   "id": "1891921a-9318-4b7c-870d-74f31f6bd39d",
   "metadata": {},
   "outputs": [
    {
     "name": "stdout",
     "output_type": "stream",
     "text": [
      "  Manufacturer  Category     Screen  GPU  OS  CPU_core Screen_Size_inch  \\\n",
      "0         Dell         3    Full HD    1   1         3           39.624   \n",
      "1         Dell         3    Full HD    1   1         7           39.624   \n",
      "2         Dell         4  IPS Panel    2   1         5           33.782   \n",
      "3           HP         4    Full HD    2   1         7           39.624   \n",
      "4         Dell         3    Full HD    1   1         5           39.624   \n",
      "5           HP         3    Full HD    3   1         5           39.624   \n",
      "6         Acer         3  IPS Panel    2   1         5             38.1   \n",
      "7         Dell         3    Full HD    1   1         5           39.624   \n",
      "8         Acer         3  IPS Panel    3   1         7             38.1   \n",
      "9         Dell         3    Full HD    1   1         7           39.624   \n",
      "\n",
      "   CPU_frequency  RAM_GB  Storage_GB_SSD Weight_kg  Price  \n",
      "0            2.0       4             256       2.2    634  \n",
      "1            2.7       8             256       2.2    946  \n",
      "2            1.6       8             128      1.22   1244  \n",
      "3            1.8       8             256      1.91    837  \n",
      "4            1.6       8             256       2.2   1016  \n",
      "5            1.6       8             256       2.1   1117  \n",
      "6            1.6       4             256       2.2    866  \n",
      "7            2.5       4             256       2.3    812  \n",
      "8            1.8       8             256       2.2   1068  \n",
      "9            1.8       8             256      2.13    975  \n"
     ]
    }
   ],
   "source": [
    "# create headers list\n",
    "headers = [\"Manufacturer\", \"Category\", \"Screen\", \"GPU\", \"OS\", \"CPU_core\", \"Screen_Size_inch\", \"CPU_frequency\", \"RAM_GB\", \"Storage_GB_SSD\", \"Weight_kg\", \"Price\"]\n",
    "df.columns = headers\n",
    "print(df.head(10))"
   ]
  },
  {
   "cell_type": "markdown",
   "id": "97327159-88ab-4352-8245-95f8f7aee190",
   "metadata": {},
   "source": [
    "**Task #3:**\n",
    "\n",
    "Replace '?' with 'NaN'\n",
    "\n",
    "Replace the '?' entries in the dataset with NaN value, recevied from the Numpy package."
   ]
  },
  {
   "cell_type": "code",
   "execution_count": 44,
   "id": "3d4e5244-7970-4a03-9a0a-c186b3b6c79e",
   "metadata": {},
   "outputs": [],
   "source": [
    "# replace '?' with 'NaN' part of data cleansing\n",
    "df.replace('?',np.NaN, inplace = True)"
   ]
  },
  {
   "cell_type": "markdown",
   "id": "007a9ddc-5814-49e3-81a9-ebc29c687eec",
   "metadata": {},
   "source": [
    "**Task #4:**\n",
    "\n",
    "Print the data types of the dataframe columns\n",
    "\n",
    "Make a note of the data types of the different columns of the dataset."
   ]
  },
  {
   "cell_type": "code",
   "execution_count": 57,
   "id": "7450a4ec-18dd-49e3-9d80-d5465f06ee63",
   "metadata": {},
   "outputs": [
    {
     "name": "stdout",
     "output_type": "stream",
     "text": [
      "Manufacturer         object\n",
      "Category              int64\n",
      "Screen               object\n",
      "GPU                   int64\n",
      "OS                    int64\n",
      "CPU_core              int64\n",
      "Screen_Size_inch     object\n",
      "CPU_frequency       float64\n",
      "RAM_GB                int64\n",
      "Storage_GB_SSD        int64\n",
      "Weight_kg            object\n",
      "Price                 int64\n",
      "dtype: object\n"
     ]
    }
   ],
   "source": [
    "# print the data types of the dataframe columns\n",
    "print(df.dtypes)"
   ]
  },
  {
   "cell_type": "markdown",
   "id": "4122c36d-6bd0-48c6-9fed-a726250874c7",
   "metadata": {},
   "source": [
    "**Task #5:**\n",
    "\n",
    "Print the statistical description of the dataset, including that of 'object' data types"
   ]
  },
  {
   "cell_type": "code",
   "execution_count": 60,
   "id": "3654c810-23d2-47ff-b30f-197d8eed5b2e",
   "metadata": {},
   "outputs": [
    {
     "name": "stdout",
     "output_type": "stream",
     "text": [
      "       Manufacturer    Category   Screen         GPU          OS    CPU_core  \\\n",
      "count           237  237.000000      237  237.000000  237.000000  237.000000   \n",
      "unique           11         NaN        2         NaN         NaN         NaN   \n",
      "top            Dell         NaN  Full HD         NaN         NaN         NaN   \n",
      "freq             71         NaN      161         NaN         NaN         NaN   \n",
      "mean            NaN    3.202532      NaN    2.151899    1.059072    5.632911   \n",
      "std             NaN    0.776450      NaN    0.639556    0.236258    1.243736   \n",
      "min             NaN    1.000000      NaN    1.000000    1.000000    3.000000   \n",
      "25%             NaN    3.000000      NaN    2.000000    1.000000    5.000000   \n",
      "50%             NaN    3.000000      NaN    2.000000    1.000000    5.000000   \n",
      "75%             NaN    4.000000      NaN    3.000000    1.000000    7.000000   \n",
      "max             NaN    5.000000      NaN    3.000000    2.000000    7.000000   \n",
      "\n",
      "       Screen_Size_inch  CPU_frequency      RAM_GB  Storage_GB_SSD Weight_kg  \\\n",
      "count               233     237.000000  237.000000      237.000000       232   \n",
      "unique                9            NaN         NaN             NaN        77   \n",
      "top              39.624            NaN         NaN             NaN       2.2   \n",
      "freq                 89            NaN         NaN             NaN        21   \n",
      "mean                NaN       2.363291    7.881857      245.738397       NaN   \n",
      "std                 NaN       0.409271    2.487845       34.832516       NaN   \n",
      "min                 NaN       1.200000    4.000000      128.000000       NaN   \n",
      "25%                 NaN       2.000000    8.000000      256.000000       NaN   \n",
      "50%                 NaN       2.500000    8.000000      256.000000       NaN   \n",
      "75%                 NaN       2.700000    8.000000      256.000000       NaN   \n",
      "max                 NaN       2.900000   16.000000      256.000000       NaN   \n",
      "\n",
      "              Price  \n",
      "count    237.000000  \n",
      "unique          NaN  \n",
      "top             NaN  \n",
      "freq            NaN  \n",
      "mean    1464.388186  \n",
      "std      574.956374  \n",
      "min      527.000000  \n",
      "25%     1068.000000  \n",
      "50%     1333.000000  \n",
      "75%     1777.000000  \n",
      "max     3810.000000  \n"
     ]
    }
   ],
   "source": [
    "print(df.describe(include='all'))"
   ]
  },
  {
   "cell_type": "raw",
   "id": "82d97201-65c2-4c75-976e-e3fa38149203",
   "metadata": {},
   "source": [
    "**Task #6:**\n",
    "\n",
    "Print the summary information of the dataset."
   ]
  },
  {
   "cell_type": "code",
   "execution_count": 69,
   "id": "3982ccb0-f39d-42f6-b450-9edac1a6dd39",
   "metadata": {},
   "outputs": [
    {
     "name": "stdout",
     "output_type": "stream",
     "text": [
      "<class 'pandas.core.frame.DataFrame'>\n",
      "RangeIndex: 237 entries, 0 to 236\n",
      "Data columns (total 12 columns):\n",
      " #   Column            Non-Null Count  Dtype  \n",
      "---  ------            --------------  -----  \n",
      " 0   Manufacturer      237 non-null    object \n",
      " 1   Category          237 non-null    int64  \n",
      " 2   Screen            237 non-null    object \n",
      " 3   GPU               237 non-null    int64  \n",
      " 4   OS                237 non-null    int64  \n",
      " 5   CPU_core          237 non-null    int64  \n",
      " 6   Screen_Size_inch  233 non-null    object \n",
      " 7   CPU_frequency     237 non-null    float64\n",
      " 8   RAM_GB            237 non-null    int64  \n",
      " 9   Storage_GB_SSD    237 non-null    int64  \n",
      " 10  Weight_kg         232 non-null    object \n",
      " 11  Price             237 non-null    int64  \n",
      "dtypes: float64(1), int64(7), object(4)\n",
      "memory usage: 22.3+ KB\n",
      "None\n"
     ]
    }
   ],
   "source": [
    "print(df.info())"
   ]
  },
  {
   "cell_type": "markdown",
   "id": "3e59c367-e9e4-4e4b-9300-8e60941c2865",
   "metadata": {},
   "source": [
    "** By Ewesit Ekidor**"
   ]
  },
  {
   "cell_type": "code",
   "execution_count": null,
   "id": "d9648803-7bfd-48d5-ba5d-102dfb451327",
   "metadata": {},
   "outputs": [],
   "source": []
  }
 ],
 "metadata": {
  "kernelspec": {
   "display_name": "Python 3 (ipykernel)",
   "language": "python",
   "name": "python3"
  },
  "language_info": {
   "codemirror_mode": {
    "name": "ipython",
    "version": 3
   },
   "file_extension": ".py",
   "mimetype": "text/x-python",
   "name": "python",
   "nbconvert_exporter": "python",
   "pygments_lexer": "ipython3",
   "version": "3.12.4"
  }
 },
 "nbformat": 4,
 "nbformat_minor": 5
}
